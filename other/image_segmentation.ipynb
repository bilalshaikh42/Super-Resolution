{
 "cells": [
  {
   "cell_type": "code",
   "execution_count": 2,
   "id": "1ef6baf1",
   "metadata": {},
   "outputs": [
    {
     "data": {
      "text/plain": [
       "\"\\nrun segmentation algo on images\\ncompare to ground truth\\npixel by pixel. note, labels have a 255 'void' barrier around objects that doesn't count\\n\""
      ]
     },
     "execution_count": 2,
     "metadata": {},
     "output_type": "execute_result"
    }
   ],
   "source": [
    "'''\n",
    "run segmentation algo on images\n",
    "compare to ground truth\n",
    "pixel by pixel. note, labels have a 'void' barrier (label 255) around objects that doesn't count for anything\n",
    "'''"
   ]
  },
  {
   "cell_type": "code",
   "execution_count": 26,
   "id": "0060c702",
   "metadata": {},
   "outputs": [
    {
     "name": "stderr",
     "output_type": "stream",
     "text": [
      "Using cache found in /home/tim/.cache/torch/hub/pytorch_vision_v0.8.0\n"
     ]
    }
   ],
   "source": [
    "# https://pytorch.org/hub/pytorch_vision_deeplabv3_resnet101/\n",
    "\n",
    "import torch\n",
    "\n",
    "# use deeplabv3_resnet50 instead of deeplabv3_resnet101 to reduce the model size\n",
    "model = torch.hub.load('pytorch/vision:v0.8.0', 'deeplabv3_resnet50', pretrained=True)\n",
    "model.eval()\n",
    "\n",
    "scriptedm = torch.jit.script(model)\n",
    "torch.jit.save(scriptedm, \"deeplabv3_scripted.pt\")"
   ]
  },
  {
   "cell_type": "code",
   "execution_count": 27,
   "id": "49e2e93e",
   "metadata": {},
   "outputs": [],
   "source": [
    "filename = \"2007_000032.jpg\"\n",
    "# sample execution (requires torchvision)\n",
    "from PIL import Image\n",
    "from torchvision import transforms\n",
    "input_image = Image.open(filename)\n",
    "input_image = input_image.convert(\"RGB\")\n",
    "preprocess = transforms.Compose([\n",
    "    transforms.ToTensor(),\n",
    "    transforms.Normalize(mean=[0.485, 0.456, 0.406], std=[0.229, 0.224, 0.225]),\n",
    "])\n",
    "\n",
    "input_tensor = preprocess(input_image)\n",
    "input_batch = input_tensor.unsqueeze(0) # create a mini-batch as expected by the model\n",
    "\n",
    "# move the input and model to GPU for speed if available\n",
    "if torch.cuda.is_available():\n",
    "    input_batch = input_batch.to('cuda')\n",
    "    model.to('cuda')\n",
    "\n",
    "with torch.no_grad():\n",
    "    output = model(input_batch)['out'][0]\n",
    "output_predictions = output.argmax(0)"
   ]
  },
  {
   "cell_type": "code",
   "execution_count": 28,
   "id": "8611f0bd",
   "metadata": {},
   "outputs": [],
   "source": [
    "\"\"\" \n",
    "https://gist.github.com/wllhf/a4533e0adebe57e3ed06d4b50c8419ae\n",
    "Python implementation of the color map function for the PASCAL VOC data set. \n",
    "Official Matlab version can be found in the PASCAL VOC devkit \n",
    "http://host.robots.ox.ac.uk/pascal/VOC/voc2012/index.html#devkit\n",
    "\"\"\"\n",
    "import numpy as np\n",
    "from skimage.io import imshow\n",
    "import matplotlib.pyplot as plt\n",
    "\n",
    "def color_map(N=256, normalized=False):\n",
    "    def bitget(byteval, idx):\n",
    "        return ((byteval & (1 << idx)) != 0)\n",
    "\n",
    "    dtype = 'float32' if normalized else 'uint8'\n",
    "    cmap = np.zeros((N, 3), dtype=dtype)\n",
    "    for i in range(N):\n",
    "        r = g = b = 0\n",
    "        c = i\n",
    "        for j in range(8):\n",
    "            r = r | (bitget(c, 0) << 7-j)\n",
    "            g = g | (bitget(c, 1) << 7-j)\n",
    "            b = b | (bitget(c, 2) << 7-j)\n",
    "            c = c >> 3\n",
    "\n",
    "        cmap[i] = np.array([r, g, b])\n",
    "\n",
    "    cmap = cmap/255 if normalized else cmap\n",
    "    return cmap\n",
    "\n",
    "cmap = color_map()"
   ]
  },
  {
   "cell_type": "code",
   "execution_count": 29,
   "id": "cb0e0072",
   "metadata": {
    "scrolled": true
   },
   "outputs": [],
   "source": [
    "# # create a color pallette, selecting a color for each class\n",
    "# palette = torch.tensor([2 ** 25 - 1, 2 ** 15 - 1, 2 ** 21 - 1])\n",
    "# colors = torch.as_tensor([i for i in range(21)])[:, None] * palette\n",
    "# colors = (colors % 255).numpy().astype(\"uint8\")\n",
    "\n",
    "# # plot the semantic segmentation predictions of 21 classes in each color\n",
    "# r = Image.fromarray(output_predictions.byte().cpu().numpy()).resize(input_image.size)\n",
    "# r.putpalette(color_map())\n",
    "\n",
    "# import matplotlib.pyplot as plt\n",
    "# plt.imshow(r)"
   ]
  },
  {
   "cell_type": "code",
   "execution_count": 30,
   "id": "e6b210f0",
   "metadata": {},
   "outputs": [],
   "source": [
    "target = Image.open(\"2007_000032.png\")\n",
    "target = np.array(target)\n",
    "target = torch.tensor(target)"
   ]
  },
  {
   "cell_type": "code",
   "execution_count": 31,
   "id": "2dcb4fd2",
   "metadata": {},
   "outputs": [],
   "source": [
    "void_pixels = torch.count_nonzero(target==255)"
   ]
  },
  {
   "cell_type": "code",
   "execution_count": 32,
   "id": "ba16a56c",
   "metadata": {},
   "outputs": [],
   "source": [
    "target_voids = target == 255\n",
    "output_predictions[target_voids] = 255\n",
    "accuracy = (torch.count_nonzero(output_predictions.cpu()==target) - void_pixels) / (target.shape[0] * target.shape[1])\n"
   ]
  },
  {
   "cell_type": "code",
   "execution_count": 33,
   "id": "c6a61e89",
   "metadata": {},
   "outputs": [
    {
     "name": "stdout",
     "output_type": "stream",
     "text": [
      "tensor(0.9460)\n"
     ]
    }
   ],
   "source": [
    "print(accuracy)"
   ]
  },
  {
   "cell_type": "code",
   "execution_count": null,
   "id": "7dcd01b5",
   "metadata": {},
   "outputs": [],
   "source": []
  }
 ],
 "metadata": {
  "kernelspec": {
   "display_name": "Python 3",
   "language": "python",
   "name": "python3"
  },
  "language_info": {
   "codemirror_mode": {
    "name": "ipython",
    "version": 3
   },
   "file_extension": ".py",
   "mimetype": "text/x-python",
   "name": "python",
   "nbconvert_exporter": "python",
   "pygments_lexer": "ipython3",
   "version": "3.6.13"
  }
 },
 "nbformat": 4,
 "nbformat_minor": 5
}
