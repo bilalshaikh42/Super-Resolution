{
 "cells": [
  {
   "cell_type": "code",
   "execution_count": 1,
   "id": "4ccc15d4",
   "metadata": {},
   "outputs": [],
   "source": [
    "# Based on https://pytorch.org/tutorials/beginner/finetuning_torchvision_models_tutorial.html\n",
    "# and\n",
    "# https://www.kaggle.com/munna3676/brain-tumor-classification-accuracy-97\n",
    "\n",
    "# Timothy Isonio\n",
    "# Finetune a VGG model to classify MRI brain tumor images.\n",
    "# Outputs to output_dir loss and accuracy curves, and a CSV with the raw data for them\n",
    "\n",
    "# To use, edit the experiment_name, and {train,test}_data_dir variables in cell 3\n",
    "# Expects a ImageFolder organized dataset, e.g.\n",
    "# ./glioma/001.png\n",
    "# ./glioma/abc.png\n",
    "# ./meningioma/09090.png\n",
    "\n",
    "# (i.e. images of any filename in folders corresponding to their labels)"
   ]
  },
  {
   "cell_type": "code",
   "execution_count": 2,
   "id": "b9884a50",
   "metadata": {},
   "outputs": [],
   "source": [
    "import torch\n",
    "import torch.nn as nn\n",
    "import torch.optim as optim\n",
    "\n",
    "import numpy as np\n",
    "\n",
    "import torchvision\n",
    "from torchvision import datasets, models, transforms\n",
    "import matplotlib.pyplot as plt\n",
    "\n",
    "import time\n",
    "import os\n",
    "import copy"
   ]
  },
  {
   "cell_type": "code",
   "execution_count": 3,
   "id": "2a649fc5",
   "metadata": {},
   "outputs": [],
   "source": [
    "torch.manual_seed(0)\n",
    "import random\n",
    "random.seed(0)\n",
    "np.random.seed(0)"
   ]
  },
  {
   "cell_type": "code",
   "execution_count": 4,
   "id": "b5288e05",
   "metadata": {},
   "outputs": [],
   "source": [
    "output_dir = \"tumor_cls_results\"\n",
    "\n",
    "\n",
    "#experiment_name = \"LR_train_X4\"\n",
    "#train_data_dir = \"../Super-Resolution/dataset/BrainTumor/LR_train/X4\"\n",
    "#test_data_dir = \"../Super-Resolution/dataset/BrainTumor/LR_test/X4\"\n",
    "\n",
    "# experiment_name = \"LR_X3\"\n",
    "# train_data_dir = \"../Super-Resolution/dataset/BrainTumor/LR_train/X3\"\n",
    "# test_data_dir = \"../Super-Resolution/dataset/BrainTumor/LR_test/X3\"\n",
    "\n",
    "# experiment_name = \"LR_X2\"\n",
    "# train_data_dir = \"../Super-Resolution/dataset/BrainTumor/LR_train/X2\"\n",
    "# test_data_dir = \"../Super-Resolution/dataset/BrainTumor/LR_test/X2\"\n",
    "\n",
    "#experiment_name = \"HR_train\"\n",
    "#train_data_dir = \"../Super-Resolution/dataset/BrainTumor/HR_train\"\n",
    "#test_data_dir = \"../Super-Resolution/dataset/BrainTumor/HR_test\"\n",
    "\n",
    "# experiment_name = \"SR\"\n",
    "# train_data_dir = \"../Super-Resolution/dataset/BrainTumor/SR_train\"\n",
    "# test_data_dir = \"../Super-Resolution/dataset/BrainTumor/SR_test\"\n",
    "\n",
    "# middle_i = 16\n",
    "# experiment_name = f\"middle_{middle_i}_SR\"\n",
    "# train_data_dir = f\"../Super-Resolution/dataset/BrainTumor/middle_{middle_i}_SR_train\"\n",
    "# test_data_dir = f\"../Super-Resolution/dataset/BrainTumor/middle_{middle_i}_SR_test\"\n",
    "\n",
    "# experiment_name = \"all_first_convs\"\n",
    "# train_data_dir = \"../Super-Resolution/dataset/BrainTumor/all_first_convs_SR_train\"\n",
    "# test_data_dir = \"../Super-Resolution/dataset/BrainTumor/all_first_convs_SR_test\"\n",
    "\n",
    "blocks = 16\n",
    "experiment_name = f\"{blocks}_blocks_best_SR\"\n",
    "train_data_dir = f\"../Super-Resolution/dataset/BrainTumor/{blocks}_blocks_best_SR_train\"\n",
    "test_data_dir = f\"../Super-Resolution/dataset/BrainTumor/{blocks}_blocks_best_SR_test\"\n",
    "\n",
    "\n",
    "num_classes = 3\n",
    "batch_size = 8\n",
    "num_epochs = 10\n",
    "feature_extract = True"
   ]
  },
  {
   "cell_type": "code",
   "execution_count": 5,
   "id": "3f79473d",
   "metadata": {},
   "outputs": [],
   "source": [
    "def train_model(model, dataloaders, criterion, optimizer, num_epochs=25, is_inception=False):\n",
    "    since = time.time()\n",
    "\n",
    "    acc_history = {\"train\":[], \"val\":[]}\n",
    "    loss_history = {\"train\":[], \"val\":[]}\n",
    "    \n",
    "    best_model_wts = copy.deepcopy(model.state_dict())\n",
    "    best_acc = 0.0\n",
    "\n",
    "    for epoch in range(num_epochs):\n",
    "        print('Epoch {}/{}'.format(epoch, num_epochs - 1))\n",
    "        print('-' * 10)\n",
    "\n",
    "        # Each epoch has a training and validation phase\n",
    "        for phase in ['train', 'val']:\n",
    "            if phase == 'train':\n",
    "                model.train()  # Set model to training mode\n",
    "            else:\n",
    "                model.eval()   # Set model to evaluate mode\n",
    "\n",
    "            running_loss = 0.0\n",
    "            running_corrects = 0\n",
    "\n",
    "            # Iterate over data.\n",
    "            for inputs, labels in dataloaders[phase]:\n",
    "                inputs = inputs.to(device)\n",
    "                labels = labels.to(device)\n",
    "\n",
    "                # zero the parameter gradients\n",
    "                optimizer.zero_grad()\n",
    "\n",
    "                # forward\n",
    "                # track history if only in train\n",
    "                with torch.set_grad_enabled(phase == 'train'):\n",
    "                    # Get model outputs and calculate loss\n",
    "                    outputs = model(inputs)\n",
    "                    loss = criterion(outputs, labels)\n",
    "\n",
    "                    _, preds = torch.max(outputs, 1)\n",
    "\n",
    "                    # backward + optimize only if in training phase\n",
    "                    if phase == 'train':\n",
    "                        loss.backward()\n",
    "                        optimizer.step()\n",
    "\n",
    "                # statistics\n",
    "                running_loss += loss.item() * inputs.size(0)\n",
    "                running_corrects += torch.sum(preds == labels.data)\n",
    "\n",
    "            epoch_loss = running_loss / len(dataloaders[phase].dataset)\n",
    "            epoch_acc = running_corrects.double() / len(dataloaders[phase].dataset)\n",
    "\n",
    "            print('{} Loss: {:.4f} Acc: {:.4f}'.format(phase, epoch_loss, epoch_acc))\n",
    "\n",
    "            # deep copy the model\n",
    "            if phase == 'val' and epoch_acc > best_acc:\n",
    "                best_acc = epoch_acc\n",
    "                best_model_wts = copy.deepcopy(model.state_dict())\n",
    "\n",
    "            loss_history[phase].append(epoch_loss)\n",
    "            acc_history[phase].append(epoch_acc)\n",
    "\n",
    "        print()\n",
    "\n",
    "    time_elapsed = time.time() - since\n",
    "    print('Training complete in {:.0f}m {:.0f}s'.format(time_elapsed // 60, time_elapsed % 60))\n",
    "    print('Best val Acc: {:4f}'.format(best_acc))\n",
    "\n",
    "    # load best model weights\n",
    "    model.load_state_dict(best_model_wts)\n",
    "    return model, acc_history, loss_history"
   ]
  },
  {
   "cell_type": "code",
   "execution_count": 6,
   "id": "971a8c71",
   "metadata": {},
   "outputs": [],
   "source": [
    "def set_parameter_requires_grad(model, feature_extracting):\n",
    "    if feature_extracting:\n",
    "        for param in model.parameters():\n",
    "            param.requires_grad = False"
   ]
  },
  {
   "cell_type": "code",
   "execution_count": 7,
   "id": "aef0354c",
   "metadata": {},
   "outputs": [],
   "source": [
    "def initialize_model(num_classes, feature_extract, use_pretrained=True):\n",
    "    # Initialize these variables which will be set in this if statement. Each of these\n",
    "    #   variables is model specific.\n",
    "\n",
    "    model_ft = models.vgg11_bn(pretrained=use_pretrained)\n",
    "    set_parameter_requires_grad(model_ft, feature_extract)\n",
    "    num_ftrs = model_ft.classifier[6].in_features\n",
    "    model_ft.classifier[6] = nn.Linear(num_ftrs,num_classes)\n",
    "    input_size = 512\n",
    "\n",
    "    return model_ft, input_size"
   ]
  },
  {
   "cell_type": "code",
   "execution_count": 8,
   "id": "4b9039e5",
   "metadata": {},
   "outputs": [
    {
     "name": "stdout",
     "output_type": "stream",
     "text": [
      "VGG(\n",
      "  (features): Sequential(\n",
      "    (0): Conv2d(3, 64, kernel_size=(3, 3), stride=(1, 1), padding=(1, 1))\n",
      "    (1): BatchNorm2d(64, eps=1e-05, momentum=0.1, affine=True, track_running_stats=True)\n",
      "    (2): ReLU(inplace=True)\n",
      "    (3): MaxPool2d(kernel_size=2, stride=2, padding=0, dilation=1, ceil_mode=False)\n",
      "    (4): Conv2d(64, 128, kernel_size=(3, 3), stride=(1, 1), padding=(1, 1))\n",
      "    (5): BatchNorm2d(128, eps=1e-05, momentum=0.1, affine=True, track_running_stats=True)\n",
      "    (6): ReLU(inplace=True)\n",
      "    (7): MaxPool2d(kernel_size=2, stride=2, padding=0, dilation=1, ceil_mode=False)\n",
      "    (8): Conv2d(128, 256, kernel_size=(3, 3), stride=(1, 1), padding=(1, 1))\n",
      "    (9): BatchNorm2d(256, eps=1e-05, momentum=0.1, affine=True, track_running_stats=True)\n",
      "    (10): ReLU(inplace=True)\n",
      "    (11): Conv2d(256, 256, kernel_size=(3, 3), stride=(1, 1), padding=(1, 1))\n",
      "    (12): BatchNorm2d(256, eps=1e-05, momentum=0.1, affine=True, track_running_stats=True)\n",
      "    (13): ReLU(inplace=True)\n",
      "    (14): MaxPool2d(kernel_size=2, stride=2, padding=0, dilation=1, ceil_mode=False)\n",
      "    (15): Conv2d(256, 512, kernel_size=(3, 3), stride=(1, 1), padding=(1, 1))\n",
      "    (16): BatchNorm2d(512, eps=1e-05, momentum=0.1, affine=True, track_running_stats=True)\n",
      "    (17): ReLU(inplace=True)\n",
      "    (18): Conv2d(512, 512, kernel_size=(3, 3), stride=(1, 1), padding=(1, 1))\n",
      "    (19): BatchNorm2d(512, eps=1e-05, momentum=0.1, affine=True, track_running_stats=True)\n",
      "    (20): ReLU(inplace=True)\n",
      "    (21): MaxPool2d(kernel_size=2, stride=2, padding=0, dilation=1, ceil_mode=False)\n",
      "    (22): Conv2d(512, 512, kernel_size=(3, 3), stride=(1, 1), padding=(1, 1))\n",
      "    (23): BatchNorm2d(512, eps=1e-05, momentum=0.1, affine=True, track_running_stats=True)\n",
      "    (24): ReLU(inplace=True)\n",
      "    (25): Conv2d(512, 512, kernel_size=(3, 3), stride=(1, 1), padding=(1, 1))\n",
      "    (26): BatchNorm2d(512, eps=1e-05, momentum=0.1, affine=True, track_running_stats=True)\n",
      "    (27): ReLU(inplace=True)\n",
      "    (28): MaxPool2d(kernel_size=2, stride=2, padding=0, dilation=1, ceil_mode=False)\n",
      "  )\n",
      "  (avgpool): AdaptiveAvgPool2d(output_size=(7, 7))\n",
      "  (classifier): Sequential(\n",
      "    (0): Linear(in_features=25088, out_features=4096, bias=True)\n",
      "    (1): ReLU(inplace=True)\n",
      "    (2): Dropout(p=0.5, inplace=False)\n",
      "    (3): Linear(in_features=4096, out_features=4096, bias=True)\n",
      "    (4): ReLU(inplace=True)\n",
      "    (5): Dropout(p=0.5, inplace=False)\n",
      "    (6): Linear(in_features=4096, out_features=3, bias=True)\n",
      "  )\n",
      ")\n"
     ]
    }
   ],
   "source": [
    "# Initialize the model for this run\n",
    "model_ft, input_size = initialize_model(num_classes, feature_extract, use_pretrained=True)\n",
    "\n",
    "# Print the model we just instantiated\n",
    "print(model_ft)"
   ]
  },
  {
   "cell_type": "code",
   "execution_count": 9,
   "id": "827ecf49",
   "metadata": {},
   "outputs": [
    {
     "name": "stdout",
     "output_type": "stream",
     "text": [
      "Initializing Datasets and Dataloaders...\n",
      "cuda:0\n"
     ]
    }
   ],
   "source": [
    "# Data augmentation and normalization for training\n",
    "# Just normalization for validation\n",
    "data_transforms = {\n",
    "    'train': transforms.Compose([\n",
    "        transforms.RandomResizedCrop(input_size),\n",
    "        transforms.RandomHorizontalFlip(),\n",
    "        transforms.ToTensor(),\n",
    "        transforms.Normalize([0.485, 0.456, 0.406], [0.229, 0.224, 0.225])\n",
    "    ]),\n",
    "    'val': transforms.Compose([\n",
    "        transforms.Resize(input_size),\n",
    "        transforms.CenterCrop(input_size),\n",
    "        transforms.ToTensor(),\n",
    "        transforms.Normalize([0.485, 0.456, 0.406], [0.229, 0.224, 0.225])\n",
    "    ]),\n",
    "}\n",
    "\n",
    "print(\"Initializing Datasets and Dataloaders...\")\n",
    "\n",
    "# Create training and validation datasets\n",
    "image_dataset = datasets.ImageFolder(train_data_dir, data_transforms[\"val\"])\n",
    "train_size = int(len(image_dataset)*0.8)\n",
    "val_size = len(image_dataset) - train_size\n",
    "train_dataset, val_dataset = torch.utils.data.random_split(image_dataset, [train_size, val_size])\n",
    "\n",
    "\n",
    "#train_dataset = datasets.ImageFolder(train_data_dir, data_transforms[\"train\"])\n",
    "test_dataset = datasets.ImageFolder(test_data_dir, data_transforms[\"val\"])\n",
    "\n",
    "\n",
    "# Create training and validation dataloaders\n",
    "#dataloaders_dict = {x: torch.utils.data.DataLoader(image_datasets[x], batch_size=batch_size, shuffle=True, num_workers=4) for x in ['train', 'val']}\n",
    "\n",
    "# Detect if we have a GPU available\n",
    "device = torch.device(\"cuda:0\" if torch.cuda.is_available() else \"cpu\")\n",
    "print(device)"
   ]
  },
  {
   "cell_type": "code",
   "execution_count": 10,
   "id": "c820cc52",
   "metadata": {},
   "outputs": [],
   "source": [
    "train_dl = torch.utils.data.DataLoader(train_dataset, batch_size=batch_size)\n",
    "val_dl = torch.utils.data.DataLoader(val_dataset, batch_size=batch_size)\n",
    "test_dl = torch.utils.data.DataLoader(test_dataset, batch_size=batch_size)"
   ]
  },
  {
   "cell_type": "code",
   "execution_count": 11,
   "id": "aab9722f",
   "metadata": {},
   "outputs": [
    {
     "name": "stdout",
     "output_type": "stream",
     "text": [
      "Params to learn:\n",
      "\t classifier.6.weight\n",
      "\t classifier.6.bias\n"
     ]
    }
   ],
   "source": [
    "# Send the model to GPU\n",
    "model_ft = model_ft.to(device)\n",
    "\n",
    "# Gather the parameters to be optimized/updated in this run. If we are\n",
    "#  finetuning we will be updating all parameters. However, if we are\n",
    "#  doing feature extract method, we will only update the parameters\n",
    "#  that we have just initialized, i.e. the parameters with requires_grad\n",
    "#  is True.\n",
    "params_to_update = model_ft.parameters()\n",
    "print(\"Params to learn:\")\n",
    "if feature_extract:\n",
    "    params_to_update = []\n",
    "    for name,param in model_ft.named_parameters():\n",
    "        if param.requires_grad == True:\n",
    "            params_to_update.append(param)\n",
    "            print(\"\\t\",name)\n",
    "else:\n",
    "    for name,param in model_ft.named_parameters():\n",
    "        if param.requires_grad == True:\n",
    "            print(\"\\t\",name)\n",
    "\n",
    "# Observe that all parameters are being optimized\n",
    "optimizer_ft = optim.SGD(params_to_update, lr=0.001, momentum=0.9)"
   ]
  },
  {
   "cell_type": "code",
   "execution_count": 12,
   "id": "410a2cfa",
   "metadata": {},
   "outputs": [
    {
     "name": "stdout",
     "output_type": "stream",
     "text": [
      "Epoch 0/9\n",
      "----------\n",
      "train Loss: 0.7619 Acc: 0.6605\n",
      "val Loss: 0.4964 Acc: 0.8022\n",
      "\n",
      "Epoch 1/9\n",
      "----------\n",
      "train Loss: 0.6548 Acc: 0.7234\n",
      "val Loss: 0.4429 Acc: 0.8252\n",
      "\n",
      "Epoch 2/9\n",
      "----------\n",
      "train Loss: 0.6156 Acc: 0.7531\n",
      "val Loss: 0.4205 Acc: 0.8374\n",
      "\n",
      "Epoch 3/9\n",
      "----------\n",
      "train Loss: 0.6055 Acc: 0.7522\n",
      "val Loss: 0.4037 Acc: 0.8507\n",
      "\n",
      "Epoch 4/9\n",
      "----------\n",
      "train Loss: 0.5907 Acc: 0.7601\n",
      "val Loss: 0.3928 Acc: 0.8483\n",
      "\n",
      "Epoch 5/9\n",
      "----------\n",
      "train Loss: 0.5823 Acc: 0.7589\n",
      "val Loss: 0.3854 Acc: 0.8483\n",
      "\n",
      "Epoch 6/9\n",
      "----------\n",
      "train Loss: 0.5795 Acc: 0.7662\n",
      "val Loss: 0.3731 Acc: 0.8568\n",
      "\n",
      "Epoch 7/9\n",
      "----------\n",
      "train Loss: 0.5877 Acc: 0.7625\n",
      "val Loss: 0.3798 Acc: 0.8568\n",
      "\n",
      "Epoch 8/9\n",
      "----------\n",
      "train Loss: 0.5939 Acc: 0.7543\n",
      "val Loss: 0.3630 Acc: 0.8604\n",
      "\n",
      "Epoch 9/9\n",
      "----------\n",
      "train Loss: 0.5681 Acc: 0.7744\n",
      "val Loss: 0.3577 Acc: 0.8629\n",
      "\n",
      "Training complete in 14m 10s\n",
      "Best val Acc: 0.862864\n"
     ]
    }
   ],
   "source": [
    "# Setup the loss fxn\n",
    "criterion = nn.CrossEntropyLoss()\n",
    "\n",
    "# Train and evaluate\n",
    "model_ft, acc_history, loss_history = train_model(model_ft, {'train':train_dl, 'val':val_dl}, criterion, optimizer_ft, num_epochs=num_epochs, is_inception=False)"
   ]
  },
  {
   "cell_type": "code",
   "execution_count": 13,
   "id": "bb40b4b4",
   "metadata": {},
   "outputs": [
    {
     "name": "stdout",
     "output_type": "stream",
     "text": [
      "test Loss: 0.4316 Acc: 0.8389\n"
     ]
    }
   ],
   "source": [
    "# test set\n",
    "\n",
    "with torch.no_grad():\n",
    "    model_ft.eval()\n",
    "    running_loss = 0.0\n",
    "    running_corrects = 0\n",
    "    for inputs, labels in test_dl:\n",
    "        inputs = inputs.to(device)\n",
    "        labels = labels.to(device)\n",
    "\n",
    "        # zero the parameter gradients\n",
    "        optimizer_ft.zero_grad()\n",
    "\n",
    "        # forward\n",
    "        # track history if only in train\n",
    "        with torch.set_grad_enabled(False):\n",
    "            # Get model outputs and calculate loss\n",
    "            # Special case for inception because in training it has an auxiliary output. In train\n",
    "            #   mode we calculate the loss by summing the final output and the auxiliary output\n",
    "            #   but in testing we only consider the final output.\n",
    "\n",
    "            outputs = model_ft(inputs)\n",
    "            loss = criterion(outputs, labels)\n",
    "\n",
    "            _, preds = torch.max(outputs, 1)\n",
    "        # statistics\n",
    "        running_loss += loss.item() * inputs.size(0)\n",
    "        running_corrects += torch.sum(preds == labels.data)\n",
    "\n",
    "    epoch_loss = running_loss / len(test_dl.dataset)\n",
    "    epoch_acc = running_corrects.double() / len(test_dl.dataset)\n",
    "\n",
    "    print('{} Loss: {:.4f} Acc: {:.4f}'.format(\"test\", epoch_loss, epoch_acc))\n",
    "test_loss = epoch_loss\n",
    "test_acc = epoch_acc"
   ]
  },
  {
   "cell_type": "code",
   "execution_count": 14,
   "id": "0b83cb35",
   "metadata": {},
   "outputs": [
    {
     "data": {
      "image/png": "[encoded data removed]",
      "text/plain": [
       "<Figure size 432x288 with 1 Axes>"
      ]
     },
     "metadata": {
      "needs_background": "light"
     },
     "output_type": "display_data"
    }
   ],
   "source": [
    "plt.title(f\"{experiment_name} loss curve\")\n",
    "plt.xlabel(\"epochs\")\n",
    "plt.ylabel(\"loss\")\n",
    "plt.plot(loss_history[\"train\"], label=\"train loss\")\n",
    "plt.plot(loss_history[\"val\"], label=\"val loss\")\n",
    "\n",
    "plt.legend()\n",
    "plt.savefig(f\"{output_dir}/{experiment_name}_loss_curve.png\")"
   ]
  },
  {
   "cell_type": "code",
   "execution_count": 15,
   "id": "8f88d89c",
   "metadata": {},
   "outputs": [
    {
     "data": {
      "image/png": "[encoded data removed]",
      "text/plain": [
       "<Figure size 432x288 with 1 Axes>"
      ]
     },
     "metadata": {
      "needs_background": "light"
     },
     "output_type": "display_data"
    }
   ],
   "source": [
    "plt.title(f\"{experiment_name} accuracy curve\")\n",
    "plt.xlabel(\"epochs\")\n",
    "plt.ylabel(\"accuracy\")\n",
    "plt.plot(acc_history[\"train\"], label=\"train accuracy\")\n",
    "plt.plot(acc_history[\"val\"], label=\"val accuracy\")\n",
    "\n",
    "plt.legend()\n",
    "plt.savefig(f\"{output_dir}/{experiment_name}_acc_curve.png\")"
   ]
  },
  {
   "cell_type": "code",
   "execution_count": 16,
   "id": "dd84bf15",
   "metadata": {},
   "outputs": [],
   "source": [
    "with open(f\"{output_dir}/{experiment_name}_testloss={test_loss:.3f}_testacc={test_acc:.3f}.csv\",'w') as outfile:\n",
    "    print(\"train loss,val loss,train acc,val acc\", file=outfile)\n",
    "    for i in range(num_epochs):\n",
    "        print(f\"{loss_history['train'][i]},{loss_history['val'][i]},{acc_history['train'][i]},{acc_history['val'][i]}\", file=outfile)\n",
    "    "
   ]
  },
  {
   "cell_type": "code",
   "execution_count": 17,
   "id": "e6f724de",
   "metadata": {},
   "outputs": [],
   "source": [
    "torch.save(model_ft, f\"{output_dir}/{experiment_name}_best.pt\")"
   ]
  },
  {
   "cell_type": "code",
   "execution_count": null,
   "id": "ec63423e",
   "metadata": {},
   "outputs": [],
   "source": []
  }
 ],
 "metadata": {
  "kernelspec": {
   "display_name": "Python 3",
   "language": "python",
   "name": "python3"
  },
  "language_info": {
   "codemirror_mode": {
    "name": "ipython",
    "version": 3
   },
   "file_extension": ".py",
   "mimetype": "text/x-python",
   "name": "python",
   "nbconvert_exporter": "python",
   "pygments_lexer": "ipython3",
   "version": "3.6.13"
  }
 },
 "nbformat": 4,
 "nbformat_minor": 5
}
